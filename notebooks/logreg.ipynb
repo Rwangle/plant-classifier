{
 "cells": [
  {
   "cell_type": "code",
   "execution_count": 1,
   "id": "0af0b6db-ecfa-45ea-8c4b-03a5e6916b51",
   "metadata": {},
   "outputs": [],
   "source": [
    "import numpy as np\n",
    "\n",
    "X_train = np.load('X_train.npy')\n",
    "y_train = np.load('y_train.npy')\n",
    "X_test = np.load('X_test.npy')\n",
    "y_test = np.load('y_test.npy')\n"
   ]
  },
  {
   "cell_type": "code",
   "execution_count": 27,
   "id": "3fa0352f-062c-45d0-b788-427e292f34f1",
   "metadata": {},
   "outputs": [
    {
     "name": "stdout",
     "output_type": "stream",
     "text": [
      "[0 1 2 3 4 5 6 7 8]\n",
      "(1149,)\n"
     ]
    }
   ],
   "source": [
    "print(np.unique(y_train))    # Check number of classes\n",
    "print(y_train.shape)         "
   ]
  },
  {
   "cell_type": "code",
   "execution_count": 25,
   "id": "f0dca100-afa5-4221-8d85-2bb70bf085af",
   "metadata": {},
   "outputs": [],
   "source": [
    "from sklearn.linear_model import LogisticRegression\n",
    "from sklearn.model_selection import GridSearchCV\n",
    "from sklearn.metrics import classification_report, accuracy_score"
   ]
  },
  {
   "cell_type": "code",
   "execution_count": 7,
   "id": "fe72ebfb-6483-490e-8380-3a8093657863",
   "metadata": {},
   "outputs": [],
   "source": [
    "param_grid = {\n",
    "    'C': [0.01, 0.1, 1, 10, 100],        # Inverse of regularization strength\n",
    "    'penalty': ['l2'],                   # L2 is standard for multi-class; L1 not supported by default solver\n",
    "    'solver': ['lbfgs'],                 # Works well for multi-class logistic regression//convergence\n",
    "    'max_iter': [1000]                   \n",
    "}\n"
   ]
  },
  {
   "cell_type": "code",
   "execution_count": 23,
   "id": "4454ef3b-2264-403e-bde7-710be4953f2e",
   "metadata": {},
   "outputs": [],
   "source": [
    "# Initialize model\n",
    "lr = LogisticRegression(multi_class='multinomial')"
   ]
  },
  {
   "cell_type": "code",
   "execution_count": 17,
   "id": "3fedefb1-dcbe-42f0-98a4-f6abb9eff2d2",
   "metadata": {},
   "outputs": [],
   "source": [
    "# GridSearchCV\n",
    "\n",
    "grid_search = GridSearchCV(\n",
    "    lr,\n",
    "    param_grid,\n",
    "    cv=5,                        # 5-fold cross-validation\n",
    "    scoring='accuracy',\n",
    "    verbose=1,                   # Optional: prints progress\n",
    "    n_jobs=-1                    # Use all processors to speed up\n",
    ")"
   ]
  },
  {
   "cell_type": "code",
   "execution_count": 19,
   "id": "58adb2ae-b82d-4655-b874-0cd4e99a1d08",
   "metadata": {},
   "outputs": [
    {
     "name": "stdout",
     "output_type": "stream",
     "text": [
      "Fitting 5 folds for each of 5 candidates, totalling 25 fits\n",
      "Best Hyperparameters: {'C': 0.1, 'max_iter': 1000, 'penalty': 'l2', 'solver': 'lbfgs'}\n",
      "Best Cross-Validation Accuracy: 0.9103512435921776\n"
     ]
    }
   ],
   "source": [
    "grid_search.fit(X_train, y_train)\n",
    "print(\"Best Hyperparameters:\", grid_search.best_params_)\n",
    "print(\"Best Cross-Validation Accuracy:\", grid_search.best_score_)"
   ]
  },
  {
   "cell_type": "code",
   "execution_count": 21,
   "id": "b7ca1ec1-9fd0-4794-be59-e827e81ed611",
   "metadata": {},
   "outputs": [
    {
     "name": "stdout",
     "output_type": "stream",
     "text": [
      "Test Accuracy: 0.909433962264151\n",
      "Classification Report:\n",
      "              precision    recall  f1-score   support\n",
      "\n",
      "           0       1.00      0.91      0.95        43\n",
      "           1       1.00      0.96      0.98        28\n",
      "           2       0.90      0.85      0.88        33\n",
      "           3       0.90      0.90      0.90        20\n",
      "           4       0.86      0.91      0.88        33\n",
      "           5       0.83      0.89      0.86        27\n",
      "           6       0.94      0.97      0.95        30\n",
      "           7       0.86      0.86      0.86        29\n",
      "           8       0.88      0.95      0.91        22\n",
      "\n",
      "    accuracy                           0.91       265\n",
      "   macro avg       0.91      0.91      0.91       265\n",
      "weighted avg       0.91      0.91      0.91       265\n",
      "\n"
     ]
    }
   ],
   "source": [
    "from sklearn.metrics import accuracy_score, classification_report\n",
    "\n",
    "# Get the best model from grid search\n",
    "best_model = grid_search.best_estimator_\n",
    "\n",
    "# Predict on the test set\n",
    "y_pred = best_model.predict(X_test)\n",
    "\n",
    "# Evaluate\n",
    "test_accuracy = accuracy_score(y_test, y_pred)\n",
    "print(\"Test Accuracy:\", test_accuracy)\n",
    "\n",
    "# Detailed report\n",
    "print(\"Classification Report:\")\n",
    "print(classification_report(y_test, y_pred))\n"
   ]
  },
  {
   "cell_type": "code",
   "execution_count": null,
   "id": "5a7a887e-8511-47bc-89a6-74a938440d31",
   "metadata": {},
   "outputs": [
    {
     "name": "stdout",
     "output_type": "stream",
     "text": [
      "C:\\Users\\nader\\project\\plant-classifier\n"
     ]
    }
   ],
   "source": []
  },
  {
   "cell_type": "code",
   "execution_count": null,
   "id": "57a6ca4f-03c5-4b62-b9c2-da39cbee3d16",
   "metadata": {},
   "outputs": [],
   "source": []
  }
 ],
 "metadata": {
  "kernelspec": {
   "display_name": "Python 3 (ipykernel)",
   "language": "python",
   "name": "python3"
  },
  "language_info": {
   "codemirror_mode": {
    "name": "ipython",
    "version": 3
   },
   "file_extension": ".py",
   "mimetype": "text/x-python",
   "name": "python",
   "nbconvert_exporter": "python",
   "pygments_lexer": "ipython3",
   "version": "3.12.4"
  }
 },
 "nbformat": 4,
 "nbformat_minor": 5
}
